{
 "cells": [
  {
   "cell_type": "code",
   "execution_count": 2,
   "id": "a88d8e32",
   "metadata": {},
   "outputs": [],
   "source": [
    "import feedparser\n",
    "import json\n",
    "\n",
    "url = \"https://www.gazeteabc.com/rss_arahaberi_178.xml\"\n",
    "feed = feedparser.parse(url)\n",
    "\n",
    "haberler = []\n",
    "for entry in feed.entries:\n",
    "    haber = {\n",
    "        \"title\": entry.get(\"title\"),\n",
    "        \"link\": entry.get(\"link\"),\n",
    "        \"published\": entry.get(\"published\"),\n",
    "        \"summary\": entry.get(\"summary\"),\n",
    "        \"content\": entry.get(\"content\")[0][\"value\"] if \"content\" in entry else None,\n",
    "        \"image\": entry[\"media_content\"][0][\"url\"] if \"media_content\" in entry else None,\n",
    "        \"thumbnail\": entry[\"media_thumbnail\"][0][\"url\"] if \"media_thumbnail\" in entry else None\n",
    "    }\n",
    "    haberler.append(haber)"
   ]
  },
  {
   "cell_type": "code",
   "execution_count": null,
   "id": "2043cf76",
   "metadata": {},
   "outputs": [],
   "source": [
    "import feedparser\n",
    "\n",
    "url = \"https://www.gazeteabc.com/rss_arahaberi_178.xml\"\n",
    "feed = feedparser.parse(url)\n",
    "\n",
    "# Tüm feed metadata’sını yazdır\n",
    "print(\"=== FEED ===\")\n",
    "for k, v in feed.feed.items():\n",
    "    print(k, \":\", v)\n",
    "\n",
    "print(\"\\n=== ENTRIES ===\")\n",
    "for i, entry in enumerate(feed.entries, 1):\n",
    "    print(f\"\\n--- Entry {i} ---\")\n",
    "    for k, v in entry.items():\n",
    "        print(k, \":\", v)"
   ]
  },
  {
   "cell_type": "code",
   "execution_count": null,
   "id": "f53f343b",
   "metadata": {},
   "outputs": [
    {
     "name": "stdout",
     "output_type": "stream",
     "text": [
      "Thu, 02 Oct 2025 17:42:47 +0300\n",
      "Mon, 29 Sep 2025 14:44:24 +0300\n"
     ]
    }
   ],
   "source": [
    "print(haberler[0][\"published\"])\n",
    "\n",
    "print(haberler[-1][\"published\"])"
   ]
  },
  {
   "cell_type": "code",
   "execution_count": 6,
   "id": "7de3afb8",
   "metadata": {},
   "outputs": [
    {
     "name": "stdout",
     "output_type": "stream",
     "text": [
      "Thu, 02 Oct 2025 17:42:47 +0300\n",
      "Thu, 02 Oct 2025 17:27:15 +0300\n",
      "Thu, 02 Oct 2025 17:23:47 +0300\n",
      "Thu, 02 Oct 2025 17:15:45 +0300\n",
      "Thu, 02 Oct 2025 17:09:39 +0300\n",
      "Thu, 02 Oct 2025 17:02:37 +0300\n",
      "Thu, 02 Oct 2025 16:52:27 +0300\n",
      "Thu, 02 Oct 2025 16:47:04 +0300\n",
      "Thu, 02 Oct 2025 12:35:11 +0300\n",
      "Thu, 02 Oct 2025 12:04:56 +0300\n",
      "Thu, 02 Oct 2025 12:01:09 +0300\n",
      "Thu, 02 Oct 2025 11:56:40 +0300\n",
      "Thu, 02 Oct 2025 11:53:07 +0300\n",
      "Thu, 02 Oct 2025 10:52:27 +0300\n",
      "Thu, 02 Oct 2025 10:44:14 +0300\n",
      "Thu, 02 Oct 2025 10:37:48 +0300\n",
      "Thu, 02 Oct 2025 10:34:49 +0300\n",
      "Wed, 01 Oct 2025 12:35:27 +0300\n",
      "Tue, 30 Sep 2025 17:47:30 +0300\n",
      "Tue, 30 Sep 2025 17:05:51 +0300\n",
      "Tue, 30 Sep 2025 17:03:21 +0300\n",
      "Tue, 30 Sep 2025 17:00:27 +0300\n",
      "Tue, 30 Sep 2025 16:54:14 +0300\n",
      "Tue, 30 Sep 2025 16:51:16 +0300\n",
      "Tue, 30 Sep 2025 16:48:34 +0300\n",
      "Tue, 30 Sep 2025 16:40:19 +0300\n",
      "Tue, 30 Sep 2025 16:37:16 +0300\n",
      "Tue, 30 Sep 2025 16:33:55 +0300\n",
      "Tue, 30 Sep 2025 16:30:01 +0300\n",
      "Tue, 30 Sep 2025 16:25:18 +0300\n",
      "Tue, 30 Sep 2025 16:21:24 +0300\n",
      "Tue, 30 Sep 2025 16:03:46 +0300\n",
      "Tue, 30 Sep 2025 15:53:20 +0300\n",
      "Tue, 30 Sep 2025 15:49:54 +0300\n",
      "Tue, 30 Sep 2025 15:40:27 +0300\n",
      "Tue, 30 Sep 2025 13:38:57 +0300\n",
      "Tue, 30 Sep 2025 13:31:04 +0300\n",
      "Tue, 30 Sep 2025 13:12:57 +0300\n",
      "Tue, 30 Sep 2025 12:59:39 +0300\n",
      "Tue, 30 Sep 2025 12:48:49 +0300\n",
      "Tue, 30 Sep 2025 12:41:58 +0300\n",
      "Tue, 30 Sep 2025 12:30:23 +0300\n",
      "Tue, 30 Sep 2025 12:20:29 +0300\n",
      "Tue, 30 Sep 2025 12:17:13 +0300\n",
      "Mon, 29 Sep 2025 17:28:54 +0300\n",
      "Mon, 29 Sep 2025 17:18:38 +0300\n",
      "Mon, 29 Sep 2025 15:10:43 +0300\n",
      "Mon, 29 Sep 2025 15:02:37 +0300\n",
      "Mon, 29 Sep 2025 14:57:04 +0300\n",
      "Mon, 29 Sep 2025 14:44:24 +0300\n"
     ]
    }
   ],
   "source": [
    "for i in haberler:\n",
    "    print(i[\"published\"])"
   ]
  }
 ],
 "metadata": {
  "kernelspec": {
   "display_name": "Python 3",
   "language": "python",
   "name": "python3"
  },
  "language_info": {
   "codemirror_mode": {
    "name": "ipython",
    "version": 3
   },
   "file_extension": ".py",
   "mimetype": "text/x-python",
   "name": "python",
   "nbconvert_exporter": "python",
   "pygments_lexer": "ipython3",
   "version": "3.10.11"
  }
 },
 "nbformat": 4,
 "nbformat_minor": 5
}
